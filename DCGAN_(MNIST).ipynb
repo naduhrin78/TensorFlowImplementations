{
  "nbformat": 4,
  "nbformat_minor": 0,
  "metadata": {
    "colab": {
      "name": "DCGAN (MNIST).ipynb",
      "version": "0.3.2",
      "provenance": [],
      "collapsed_sections": [],
      "include_colab_link": true
    },
    "kernelspec": {
      "name": "python2",
      "display_name": "Python 2"
    },
    "accelerator": "GPU"
  },
  "cells": [
    {
      "cell_type": "markdown",
      "metadata": {
        "id": "view-in-github",
        "colab_type": "text"
      },
      "source": [
        "<a href=\"https://colab.research.google.com/github/naduhrin78/TensorFlowImplementations/blob/master/DCGAN_(MNIST).ipynb\" target=\"_parent\"><img src=\"https://colab.research.google.com/assets/colab-badge.svg\" alt=\"Open In Colab\"/></a>"
      ]
    },
    {
      "cell_type": "markdown",
      "metadata": {
        "id": "4im1steo8lV9",
        "colab_type": "text"
      },
      "source": [
        "# Initialization"
      ]
    },
    {
      "cell_type": "code",
      "metadata": {
        "id": "eSQJLdAo2Kkk",
        "colab_type": "code",
        "colab": {}
      },
      "source": [
        "from __future__ import absolute_import, division, print_function\n",
        "\n",
        "import os\n",
        "import matplotlib.pyplot as plt\n",
        "from IPython import display\n",
        "\n",
        "import numpy as np\n",
        "\n",
        "import tensorflow as tf\n",
        "    \n",
        "from tensorflow.keras.layers import Dense, BatchNormalization, LeakyReLU, Reshape, Conv2DTranspose, Dropout, Conv2D, Flatten"
      ],
      "execution_count": 0,
      "outputs": []
    },
    {
      "cell_type": "code",
      "metadata": {
        "id": "Gx8atrdd2psY",
        "colab_type": "code",
        "outputId": "0acc44bd-b5ad-4b46-db39-b24fbb13c300",
        "colab": {
          "base_uri": "https://localhost:8080/",
          "height": 34
        }
      },
      "source": [
        "print(\"TensorFlow version: {}\".format(tf.__version__))"
      ],
      "execution_count": 2,
      "outputs": [
        {
          "output_type": "stream",
          "text": [
            "TensorFlow version: 2.0.0-alpha0\n"
          ],
          "name": "stdout"
        }
      ]
    },
    {
      "cell_type": "code",
      "metadata": {
        "id": "7nLwoYFXCAVM",
        "colab_type": "code",
        "colab": {}
      },
      "source": [
        "BUFFER_SIZE = 70000\n",
        "BATCH_SIZE = 32\n",
        "NOISE_DIM = 100"
      ],
      "execution_count": 0,
      "outputs": []
    },
    {
      "cell_type": "markdown",
      "metadata": {
        "id": "C0xV-3lH8tm8",
        "colab_type": "text"
      },
      "source": [
        "# Loading Dataset\n"
      ]
    },
    {
      "cell_type": "code",
      "metadata": {
        "id": "tKPmoLBV2sBM",
        "colab_type": "code",
        "colab": {}
      },
      "source": [
        "(train_images, train_label), (test_images, test_label) = tf.keras.datasets.mnist.load_data()"
      ],
      "execution_count": 0,
      "outputs": []
    },
    {
      "cell_type": "code",
      "metadata": {
        "id": "LL0d_MPD7bBG",
        "colab_type": "code",
        "colab": {}
      },
      "source": [
        "true_images, true_labels = np.concatenate((train_images, test_images)), np.concatenate((train_label, test_label))"
      ],
      "execution_count": 0,
      "outputs": []
    },
    {
      "cell_type": "code",
      "metadata": {
        "id": "nzl6E0jS_IUt",
        "colab_type": "code",
        "outputId": "bd332355-1631-4f60-f3cc-61343817a428",
        "colab": {
          "base_uri": "https://localhost:8080/",
          "height": 286
        }
      },
      "source": [
        "plt.imshow(true_images[0])"
      ],
      "execution_count": 6,
      "outputs": [
        {
          "output_type": "execute_result",
          "data": {
            "text/plain": [
              "<matplotlib.image.AxesImage at 0x7f0e2a5dcd10>"
            ]
          },
          "metadata": {
            "tags": []
          },
          "execution_count": 6
        },
        {
          "output_type": "display_data",
          "data": {
            "image/png": "[encoded data removed]",
            "text/plain": [
              "<Figure size 432x288 with 1 Axes>"
            ]
          },
          "metadata": {
            "tags": []
          }
        }
      ]
    },
    {
      "cell_type": "code",
      "metadata": {
        "id": "tPDfp0va_guA",
        "colab_type": "code",
        "colab": {}
      },
      "source": [
        "true_images_nrm = (true_images[..., tf.newaxis].astype(np.float32)-127.5)/127.5"
      ],
      "execution_count": 0,
      "outputs": []
    },
    {
      "cell_type": "code",
      "metadata": {
        "id": "vZVEFiEhCEy8",
        "colab_type": "code",
        "colab": {}
      },
      "source": [
        "train_dataset = tf.data.Dataset.from_tensor_slices(true_images_nrm).shuffle(BUFFER_SIZE).batch(BATCH_SIZE)"
      ],
      "execution_count": 0,
      "outputs": []
    },
    {
      "cell_type": "code",
      "metadata": {
        "id": "AW1e_oX68NoJ",
        "colab_type": "code",
        "colab": {}
      },
      "source": [
        "seed = tf.random.normal([16, NOISE_DIM])"
      ],
      "execution_count": 0,
      "outputs": []
    },
    {
      "cell_type": "code",
      "metadata": {
        "id": "PaZq0muW8Nqq",
        "colab_type": "code",
        "colab": {}
      },
      "source": [
        "def generate_and_save_images(model, epoch, test_input):\n",
        "    predictions = model(test_input)\n",
        "\n",
        "    fig = plt.figure(figsize=(4,4))\n",
        "\n",
        "    for i in range(predictions.shape[0]):\n",
        "        plt.subplot(4, 4, i+1)\n",
        "        plt.imshow(predictions[i, :, :, 0] * 127.5 + 127.5, cmap='gray')\n",
        "        plt.axis('off')\n",
        "\n",
        "    plt.savefig('image_at_epoch_{:04d}.png'.format(epoch))\n",
        "    plt.show()"
      ],
      "execution_count": 0,
      "outputs": []
    },
    {
      "cell_type": "markdown",
      "metadata": {
        "id": "rpaMcuau88g_",
        "colab_type": "text"
      },
      "source": [
        "# Generator Class"
      ]
    },
    {
      "cell_type": "code",
      "metadata": {
        "id": "ChfCHdmW8fOo",
        "colab_type": "code",
        "colab": {}
      },
      "source": [
        "class GeneratorModel(tf.keras.Model):\n",
        "    def __init__(self):\n",
        "        super(GeneratorModel, self).__init__()\n",
        "        \n",
        "        self.dense = Dense(7*7*256, use_bias=False, input_shape=(100,))\n",
        "        \n",
        "        self.bn1 = BatchNormalization()\n",
        "        self.bn2 = BatchNormalization()\n",
        "        self.bn3 = BatchNormalization()\n",
        "        \n",
        "        self.act1 = LeakyReLU()\n",
        "        self.act2 = LeakyReLU()\n",
        "        self.act3 = LeakyReLU()\n",
        "\n",
        "        self.reshape = Reshape((7, 7, 256))\n",
        "        \n",
        "        self.transpose1 = Conv2DTranspose(128, (5, 5), strides=(1, 1), padding='same', use_bias=False)\n",
        "        self.transpose2 = Conv2DTranspose(64, (5, 5), strides=(2, 2), padding='same', use_bias=False)\n",
        "        self.transpose3 = Conv2DTranspose(1, (5, 5), strides=(2, 2), activation='tanh', padding='same', use_bias=False)\n",
        "        \n",
        "        self.optimizer = tf.keras.optimizers.Adam(1e-4)\n",
        "        \n",
        "    def loss(self, pred):\n",
        "        return tf.compat.v1.losses.sigmoid_cross_entropy(tf.ones_like(pred), pred)\n",
        "        \n",
        "    def call(self, x):\n",
        "        x = self.dense(x)\n",
        "        x = self.bn1(x)\n",
        "        x = self.act1(x)\n",
        "        x = self.reshape(x)\n",
        "        \n",
        "        x = self.transpose1(x)\n",
        "        x = self.bn2(x)\n",
        "        x = self.act2(x)\n",
        "        \n",
        "        x = self.transpose2(x)\n",
        "        x = self.bn3(x)\n",
        "        x = self.act3(x)\n",
        "        \n",
        "        return self.transpose3(x)"
      ],
      "execution_count": 0,
      "outputs": []
    },
    {
      "cell_type": "markdown",
      "metadata": {
        "id": "XusiNhyxEYuX",
        "colab_type": "text"
      },
      "source": [
        "# Discriminator Class\n"
      ]
    },
    {
      "cell_type": "code",
      "metadata": {
        "id": "5bgOnK6pN5Bm",
        "colab_type": "code",
        "colab": {}
      },
      "source": [
        "class DiscriminatorModel(tf.keras.Model):\n",
        "    def __init__(self):\n",
        "        super(DiscriminatorModel, self).__init__()\n",
        "        \n",
        "        self.conv2d_1 = Conv2D(64, (5, 5), strides=(2, 2), padding='same')\n",
        "        self.conv2d_2 = Conv2D(128, (5, 5), strides=(2, 2), padding='same')\n",
        "        \n",
        "        self.dense = Dense(1)\n",
        "        \n",
        "        self.drop1 = BatchNormalization()\n",
        "        self.drop2 = BatchNormalization()\n",
        "        \n",
        "        self.act1 = LeakyReLU()\n",
        "        self.act2 = LeakyReLU()\n",
        "\n",
        "        self.flat = Flatten()\n",
        "        \n",
        "        self.optimizer = tf.keras.optimizers.Adam(1e-4)\n",
        "        \n",
        "    def loss(self, real, pred):\n",
        "        return tf.compat.v1.losses.sigmoid_cross_entropy(tf.ones_like(real), real) + tf.compat.v1.losses.sigmoid_cross_entropy(tf.zeros_like(pred), pred)\n",
        "        \n",
        "    def call(self, x):\n",
        "        x = self.conv2d_1(x)\n",
        "        x = self.act1(x)\n",
        "        x = self.drop1(x)\n",
        "        \n",
        "        x = self.conv2d_2(x)\n",
        "        x = self.act2(x)\n",
        "        x = self.drop2(x)\n",
        "        \n",
        "        x = self.flat(x)\n",
        "        return self.dense(x)            "
      ],
      "execution_count": 0,
      "outputs": []
    },
    {
      "cell_type": "code",
      "metadata": {
        "id": "T5IYjtQHgB33",
        "colab_type": "code",
        "colab": {}
      },
      "source": [
        "class DCGAN(tf.keras.Model):\n",
        "    def __init__(self):\n",
        "        super(DCGAN, self).__init__()\n",
        "        \n",
        "        self.discriminator = DiscriminatorModel()\n",
        "        self.generator = GeneratorModel()\n",
        "        \n",
        "    @tf.function\n",
        "    def train_step(self, images):\n",
        "        noise = tf.random.normal([BATCH_SIZE, NOISE_DIM])\n",
        "        \n",
        "        with tf.GradientTape() as gen_tape, tf.GradientTape() as disc_tape:\n",
        "            # Create an image using Generator and Random Noise\n",
        "            gen_pred = self.generator(noise)\n",
        "            \n",
        "            # Predict on real images i.e should give 1 always because real\n",
        "            disc_real_pred = self.discriminator(images)\n",
        "            \n",
        "            # Predict on fake images i.e should give 0 always because fake\n",
        "            disc_fake_pred = self.discriminator(gen_pred)\n",
        "            \n",
        "            \n",
        "            # Loss between our fake image and discriminator capability\n",
        "            gen_loss = self.generator.loss(disc_fake_pred)\n",
        "            \n",
        "            # Loss symbolizing how close real image is to 1 and fake to 0\n",
        "            disc_loss = self.discriminator.loss(disc_real_pred, disc_fake_pred)\n",
        "            \n",
        "            \n",
        "        grads = gen_tape.gradient(gen_loss, self.generator.trainable_variables)\n",
        "        self.generator.optimizer.apply_gradients(zip(grads, self.generator.trainable_variables))\n",
        "        \n",
        "        grads = disc_tape.gradient(disc_loss, self.discriminator.trainable_variables)\n",
        "        self.discriminator.optimizer.apply_gradients(zip(grads, self.discriminator.trainable_variables))\n",
        "        \n",
        "    def fit(self, images, epochs):\n",
        "        for epoch in range(epochs):\n",
        "            for image in images:\n",
        "                self.train_step(image)\n",
        "            \n",
        "            display.clear_output(wait=True)\n",
        "            print(epoch+1,':')\n",
        "            generate_and_save_images(self.generator,\n",
        "                             epoch + 1,\n",
        "                             seed)"
      ],
      "execution_count": 0,
      "outputs": []
    },
    {
      "cell_type": "code",
      "metadata": {
        "id": "-xPlUl4iip8H",
        "colab_type": "code",
        "colab": {}
      },
      "source": [
        "dcgan = DCGAN()"
      ],
      "execution_count": 0,
      "outputs": []
    },
    {
      "cell_type": "code",
      "metadata": {
        "id": "84H5umNxjQxS",
        "colab_type": "code",
        "outputId": "83920295-4dd6-4df9-cc4c-7022ff06cce2",
        "colab": {
          "base_uri": "https://localhost:8080/",
          "height": 286
        }
      },
      "source": [
        "dcgan.fit(train_dataset, 200)"
      ],
      "execution_count": 0,
      "outputs": [
        {
          "output_type": "stream",
          "text": [
            "200 :\n"
          ],
          "name": "stdout"
        },
        {
          "output_type": "display_data",
          "data": {
            "image/png": "[encoded data removed]",
            "text/plain": [
              "<Figure size 288x288 with 16 Axes>"
            ]
          },
          "metadata": {
            "tags": []
          }
        }
      ]
    },
    {
      "cell_type": "code",
      "metadata": {
        "id": "ZlNhLxVW-ViC",
        "colab_type": "code",
        "colab": {}
      },
      "source": [
        ""
      ],
      "execution_count": 0,
      "outputs": []
    }
  ]
}
