{
  "nbformat": 4,
  "nbformat_minor": 0,
  "metadata": {
    "colab": {
      "name": "IRIS.ipynb",
      "version": "0.3.2",
      "provenance": [],
      "collapsed_sections": [],
      "include_colab_link": true
    },
    "kernelspec": {
      "name": "python3",
      "display_name": "Python 3"
    },
    "accelerator": "GPU"
  },
  "cells": [
    {
      "cell_type": "markdown",
      "metadata": {
        "id": "view-in-github",
        "colab_type": "text"
      },
      "source": [
        "<a href=\"https://colab.research.google.com/github/naduhrin78/TensorFlowImplementations/blob/master/IRIS.ipynb\" target=\"_parent\"><img src=\"https://colab.research.google.com/assets/colab-badge.svg\" alt=\"Open In Colab\"/></a>"
      ]
    },
    {
      "cell_type": "markdown",
      "metadata": {
        "id": "dq28E-bDPJC4",
        "colab_type": "text"
      },
      "source": [
        "# Initialization\n"
      ]
    },
    {
      "cell_type": "code",
      "metadata": {
        "id": "WxGj9kKlNeUw",
        "colab_type": "code",
        "colab": {}
      },
      "source": [
        "from __future__ import absolute_import, division, print_function\n",
        "\n",
        "import os\n",
        "import matplotlib.pyplot as plt\n",
        "\n",
        "import tensorflow as tf"
      ],
      "execution_count": 0,
      "outputs": []
    },
    {
      "cell_type": "code",
      "metadata": {
        "id": "3eyEFItZQN-T",
        "colab_type": "code",
        "outputId": "7faa55f5-bd78-4ec4-f584-15dfa41c49bd",
        "colab": {
          "base_uri": "https://localhost:8080/",
          "height": 34
        }
      },
      "source": [
        "print(\"TensorFlow version: {}\".format(tf.__version__))"
      ],
      "execution_count": 2,
      "outputs": [
        {
          "output_type": "stream",
          "text": [
            "TensorFlow version: 2.0.0-alpha0\n"
          ],
          "name": "stdout"
        }
      ]
    },
    {
      "cell_type": "code",
      "metadata": {
        "id": "8rZfmJPhSD7-",
        "colab_type": "code",
        "colab": {}
      },
      "source": [
        "column_names = ['sepal_length', 'sepal_width', 'petal_length', 'petal_width', 'species']\n",
        "\n",
        "feature_names = column_names[:-1]\n",
        "label_name = column_names[-1]\n",
        "\n",
        "class_names = ['Iris setosa', 'Iris versicolor', 'Iris virginica']"
      ],
      "execution_count": 0,
      "outputs": []
    },
    {
      "cell_type": "markdown",
      "metadata": {
        "id": "uCPT9U5BhYk4",
        "colab_type": "text"
      },
      "source": [
        "# Train Data"
      ]
    },
    {
      "cell_type": "code",
      "metadata": {
        "id": "KfY0My9tQtE0",
        "colab_type": "code",
        "colab": {}
      },
      "source": [
        "train_dataset_url = \"https://storage.googleapis.com/download.tensorflow.org/data/iris_training.csv\"\n",
        "\n",
        "train_dataset_fp = tf.keras.utils.get_file(os.path.basename(train_dataset_url), origin = train_dataset_url)"
      ],
      "execution_count": 0,
      "outputs": []
    },
    {
      "cell_type": "code",
      "metadata": {
        "id": "1EYskwQ_VklF",
        "colab_type": "code",
        "colab": {}
      },
      "source": [
        "train_dataset = tf.data.experimental.make_csv_dataset(train_dataset_fp, 120, column_names=column_names, label_name=label_name, num_epochs=1)"
      ],
      "execution_count": 0,
      "outputs": []
    },
    {
      "cell_type": "code",
      "metadata": {
        "id": "_3ub0xugWDzX",
        "colab_type": "code",
        "colab": {}
      },
      "source": [
        "train_features, train_labels = next(iter(train_dataset))\n",
        "train_features = tf.stack(list(train_features.values()), axis=1)"
      ],
      "execution_count": 0,
      "outputs": []
    },
    {
      "cell_type": "markdown",
      "metadata": {
        "id": "sMQFNq7FheX2",
        "colab_type": "text"
      },
      "source": [
        "# Test Data"
      ]
    },
    {
      "cell_type": "code",
      "metadata": {
        "id": "STTmsH5OhiAv",
        "colab_type": "code",
        "colab": {}
      },
      "source": [
        "test_dataset_url = \"https://storage.googleapis.com/download.tensorflow.org/data/iris_test.csv\"\n",
        "\n",
        "test_data_fp = tf.keras.utils.get_file(os.path.basename(test_dataset_url), origin=test_dataset_url)"
      ],
      "execution_count": 0,
      "outputs": []
    },
    {
      "cell_type": "code",
      "metadata": {
        "id": "etNbAm0KhiJ9",
        "colab_type": "code",
        "colab": {}
      },
      "source": [
        "test_dataset = tf.data.experimental.make_csv_dataset(test_data_fp, 30, column_names=column_names, label_name=label_name, num_epochs=1)"
      ],
      "execution_count": 0,
      "outputs": []
    },
    {
      "cell_type": "code",
      "metadata": {
        "id": "APFmZlpkhiMT",
        "colab_type": "code",
        "colab": {}
      },
      "source": [
        "test_features, test_labels = next(iter(test_dataset))\n",
        "test_features = tf.stack(list(test_features.values()), axis=1)"
      ],
      "execution_count": 0,
      "outputs": []
    },
    {
      "cell_type": "code",
      "metadata": {
        "id": "pFHM5RSBF1u4",
        "colab_type": "code",
        "colab": {}
      },
      "source": [
        "tra = []\n",
        "trl = []\n",
        "tsa = []\n",
        "tsl = []"
      ],
      "execution_count": 0,
      "outputs": []
    },
    {
      "cell_type": "markdown",
      "metadata": {
        "id": "FG26Ix9UPBDG",
        "colab_type": "text"
      },
      "source": [
        "# Model"
      ]
    },
    {
      "cell_type": "code",
      "metadata": {
        "id": "3chVeEDwX3T8",
        "colab_type": "code",
        "colab": {}
      },
      "source": [
        "class IRISModel(tf.keras.Model):\n",
        "    def __init__(self):\n",
        "        super(IRISModel, self).__init__()\n",
        "        self.dense1 = tf.keras.layers.Dense(10, activation='relu', input_shape=(4,))\n",
        "        self.dense2 = tf.keras.layers.Dense(10, activation='relu')\n",
        "        self.dense3 = tf.keras.layers.Dense(3, activation='softmax')\n",
        "        self.loss_obj = tf.keras.losses.SparseCategoricalCrossentropy()\n",
        "        self.optimizer = tf.keras.optimizers.Adam()\n",
        "        self.train_loss = tf.metrics.Mean()\n",
        "        self.train_accuracy = tf.metrics.SparseCategoricalAccuracy()\n",
        "        self.test_loss = tf.metrics.Mean()\n",
        "        self.test_accuracy = tf.metrics.SparseCategoricalAccuracy()\n",
        "        \n",
        "    def call(self, x):\n",
        "        x = self.dense1(x)\n",
        "        x = self.dense2(x)\n",
        "        return self.dense3(x)\n",
        "    \n",
        "    @tf.function\n",
        "    def train_step(self, features, label):\n",
        "        with tf.GradientTape() as tape:\n",
        "            pred = self(features)\n",
        "            loss = self.loss_obj(label, pred)\n",
        "        \n",
        "        grads = tape.gradient(loss, self.trainable_variables)\n",
        "        self.optimizer.apply_gradients(zip(grads, self.trainable_variables))\n",
        "\n",
        "        self.train_loss(loss)\n",
        "        self.train_accuracy(label, pred)\n",
        "    \n",
        "    @tf.function\n",
        "    def test_step(self, features, label):\n",
        "        pred = self(features)        \n",
        "        loss = self.loss_obj(label, pred)\n",
        "        \n",
        "        self.test_loss(loss)\n",
        "        self.test_accuracy(label, pred)\n",
        "        \n",
        "    def fit(self, x_train, y_train, x_test, y_test, epochs=5):\n",
        "        train_ds = tf.data.Dataset.from_tensor_slices((x_train, y_train)).shuffle(1000).batch(10)\n",
        "        test_ds = tf.data.Dataset.from_tensor_slices((x_test, y_test)).batch(10)\n",
        "        \n",
        "        for epoch in range(epochs):\n",
        "            for features, label in train_ds:\n",
        "                self.train_step(features, label)\n",
        "                \n",
        "            train_loss = self.train_loss.result()\n",
        "            train_acc =self.train_accuracy.result()\n",
        "            \n",
        "            trl.append(train_loss)\n",
        "            tra.append(train_acc)\n",
        "            \n",
        "            for features, label in test_ds:\n",
        "                self.test_step(features, label)\n",
        "                \n",
        "            test_loss = self.test_loss.result()\n",
        "            test_acc = self.test_accuracy.result()\n",
        "            \n",
        "            tsl.append(test_loss)\n",
        "            tsa.append(test_acc)\n",
        "            \n",
        "            template = 'Epoch {}, Loss: {}, Accuracy: {}, Test Loss: {}, Test Accuracy: {}'\n",
        "            \n",
        "            if epoch%50 == 0 or epoch == epochs-1:\n",
        "                print(template.format(epoch,\n",
        "                                  train_loss,\n",
        "                                  train_acc * 100,\n",
        "                                  test_loss,\n",
        "                                  test_acc * 100))"
      ],
      "execution_count": 0,
      "outputs": []
    },
    {
      "cell_type": "code",
      "metadata": {
        "id": "1KJz0s4-hVXb",
        "colab_type": "code",
        "colab": {}
      },
      "source": [
        "model = IRISModel()"
      ],
      "execution_count": 0,
      "outputs": []
    },
    {
      "cell_type": "code",
      "metadata": {
        "id": "5HNyupVdp_WY",
        "colab_type": "code",
        "colab": {}
      },
      "source": [
        "model.compile(optimizer=tf.keras.optimizers.Adam(),\n",
        "              loss='categorical_crossentropy',\n",
        "              metrics=['accuracy'])"
      ],
      "execution_count": 0,
      "outputs": []
    },
    {
      "cell_type": "markdown",
      "metadata": {
        "id": "kCMGmeQaPOtj",
        "colab_type": "text"
      },
      "source": [
        "# Assessment"
      ]
    },
    {
      "cell_type": "code",
      "metadata": {
        "id": "dpjVVz59hbE_",
        "colab_type": "code",
        "outputId": "da7161fa-b747-4c54-ff83-a02f34f94205",
        "colab": {
          "base_uri": "https://localhost:8080/",
          "height": 102
        }
      },
      "source": [
        "model.fit(train_features, train_labels, test_features, test_labels, epochs=200)"
      ],
      "execution_count": 40,
      "outputs": [
        {
          "output_type": "stream",
          "text": [
            "Epoch 0, Loss: 1.3489904403686523, Accuracy: 30.83333396911621, Test Loss: 0.9855850338935852, Test Accuracy: 56.66666793823242\n",
            "Epoch 50, Loss: 0.5231435298919678, Accuracy: 89.70588684082031, Test Loss: 0.5450419783592224, Test Accuracy: 91.24182891845703\n",
            "Epoch 100, Loss: 0.34731024503707886, Accuracy: 93.82012939453125, Test Loss: 0.3612576425075531, Test Accuracy: 93.92739868164062\n",
            "Epoch 150, Loss: 0.2646215558052063, Accuracy: 95.31456756591797, Test Loss: 0.2728966176509857, Test Accuracy: 94.83443450927734\n",
            "Epoch 199, Loss: 0.21879635751247406, Accuracy: 96.125, Test Loss: 0.224032923579216, Test Accuracy: 95.28333282470703\n"
          ],
          "name": "stdout"
        }
      ]
    },
    {
      "cell_type": "code",
      "metadata": {
        "id": "3jGXtIxsrQgG",
        "colab_type": "code",
        "outputId": "b343c542-42b7-433d-97bf-9735f780ac1c",
        "colab": {
          "base_uri": "https://localhost:8080/",
          "height": 500
        }
      },
      "source": [
        "plt.figure(figsize=(12, 8))\n",
        "plt.plot(list(range(200)), [t.numpy() for t in trl], 'r--', label='Train loss')\n",
        "plt.plot(list(range(200)), [t.numpy() for t in tra], 'r', label='Train accuracy')\n",
        "plt.plot(list(range(200)), [t.numpy() for t in tsl], 'b--', label='Test loss')\n",
        "plt.plot(list(range(200)), [t.numpy() for t in tsa], 'b', label='Test accuracy')\n",
        "plt.xlabel('Epochs')\n",
        "plt.legend()\n",
        "plt.show()\n"
      ],
      "execution_count": 41,
      "outputs": [
        {
          "output_type": "display_data",
          "data": {
            "image/png": "[encoded data removed]",
            "text/plain": [
              "<Figure size 864x576 with 1 Axes>"
            ]
          },
          "metadata": {
            "tags": []
          }
        }
      ]
    },
    {
      "cell_type": "code",
      "metadata": {
        "id": "tmaBCRbpi8Mi",
        "colab_type": "code",
        "colab": {}
      },
      "source": [
        ""
      ],
      "execution_count": 0,
      "outputs": []
    }
  ]
}